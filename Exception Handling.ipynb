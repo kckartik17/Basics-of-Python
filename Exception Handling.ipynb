{
 "cells": [
  {
   "cell_type": "code",
   "execution_count": 8,
   "metadata": {},
   "outputs": [
    {
     "name": "stdout",
     "output_type": "stream",
     "text": [
      "1\n",
      "2\n",
      "0.5\n",
      "1\n",
      "2\n",
      "program run successully\n",
      "Program over!\n"
     ]
    }
   ],
   "source": [
    "a = int(input())\n",
    "\n",
    "b = int(input())\n",
    "\n",
    "d = {'a':1,'b':2}\n",
    "\n",
    "l = [1,2]\n",
    "\n",
    "try:\n",
    "    print(a/b)\n",
    "    print(d['a'])\n",
    "    print(l[1])\n",
    "except ZeroDivisionError:\n",
    "    print(\"Can't divide by zero\")\n",
    "except KeyError:\n",
    "    print(\"Key not found\")\n",
    "except Exception as e:\n",
    "    print(e)\n",
    "else:\n",
    "    print(\"program run successully\")\n",
    "finally:\n",
    "    print(\"Program over!\")"
   ]
  }
 ],
 "metadata": {
  "kernelspec": {
   "display_name": "Python 3",
   "language": "python",
   "name": "python3"
  },
  "language_info": {
   "codemirror_mode": {
    "name": "ipython",
    "version": 3
   },
   "file_extension": ".py",
   "mimetype": "text/x-python",
   "name": "python",
   "nbconvert_exporter": "python",
   "pygments_lexer": "ipython3",
   "version": "3.7.1"
  }
 },
 "nbformat": 4,
 "nbformat_minor": 2
}
