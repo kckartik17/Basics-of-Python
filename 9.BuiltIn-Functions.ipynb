{
 "cells": [
  {
   "cell_type": "markdown",
   "metadata": {},
   "source": [
    "# ***<center>Important built-in functions</center>***\n",
    "<img src=http://s2.quickmeme.com/img/2d/2ddc7d5b4e7d6ee47bfd5b33acf3a1201b49877a4163d5f49ee5ba05685ccaae.jpg height=400 width=400>"
   ]
  },
  {
   "cell_type": "code",
   "execution_count": 1,
   "metadata": {},
   "outputs": [],
   "source": [
    "l  = [1,2,3,4,5]"
   ]
  },
  {
   "cell_type": "code",
   "execution_count": 2,
   "metadata": {},
   "outputs": [],
   "source": [
    "it = iter(l) #iterator"
   ]
  },
  {
   "cell_type": "code",
   "execution_count": 8,
   "metadata": {},
   "outputs": [
    {
     "ename": "StopIteration",
     "evalue": "",
     "output_type": "error",
     "traceback": [
      "\u001b[0;31m---------------------------------------------------------------------------\u001b[0m",
      "\u001b[0;31mStopIteration\u001b[0m                             Traceback (most recent call last)",
      "\u001b[0;32m<ipython-input-8-bc1ab118995a>\u001b[0m in \u001b[0;36m<module>\u001b[0;34m\u001b[0m\n\u001b[0;32m----> 1\u001b[0;31m \u001b[0mnext\u001b[0m\u001b[0;34m(\u001b[0m\u001b[0mit\u001b[0m\u001b[0;34m)\u001b[0m\u001b[0;34m\u001b[0m\u001b[0;34m\u001b[0m\u001b[0m\n\u001b[0m",
      "\u001b[0;31mStopIteration\u001b[0m: "
     ]
    }
   ],
   "source": [
    "next(it)"
   ]
  },
  {
   "cell_type": "markdown",
   "metadata": {},
   "source": [
    "## 1. sort\n",
    "\n",
    "<img src=http://s2.quickmeme.com/img/96/963e77d9824553104fd63cb3cbcd81867a61672d89482bc7a492aaa8f6935449.jpg height=400 width=400>\n",
    "\n",
    "- In place sorting: __iterable__.sort()\n",
    "    \n",
    "    \n",
    "- Return a sorted iterable: sorted(__iterable__)\n",
    "\n",
    "\n",
    "- Two optional arguments: **key** and **reverse**.\n",
    "    - ***key***: specifies a **function of one argument** that is used to extract a **comparison key** from each list element\n",
    "    - ***reverse***: A boolean value. If set to True, then the list elements are sorted as if each comparison were reversed."
   ]
  },
  {
   "cell_type": "code",
   "execution_count": 13,
   "metadata": {},
   "outputs": [],
   "source": [
    "l = [('ram',3),('kartik',5),('kushal',2)]"
   ]
  },
  {
   "cell_type": "code",
   "execution_count": 14,
   "metadata": {},
   "outputs": [],
   "source": [
    "l.sort()"
   ]
  },
  {
   "cell_type": "code",
   "execution_count": 15,
   "metadata": {},
   "outputs": [
    {
     "data": {
      "text/plain": [
       "[('kartik', 5), ('kushal', 2), ('ram', 3)]"
      ]
     },
     "execution_count": 15,
     "metadata": {},
     "output_type": "execute_result"
    }
   ],
   "source": [
    "l"
   ]
  },
  {
   "cell_type": "code",
   "execution_count": 16,
   "metadata": {},
   "outputs": [],
   "source": [
    "def sort_by_second(x):\n",
    "    return x[1]"
   ]
  },
  {
   "cell_type": "code",
   "execution_count": 17,
   "metadata": {},
   "outputs": [],
   "source": [
    "l.sort(key=sort_by_second)"
   ]
  },
  {
   "cell_type": "code",
   "execution_count": 18,
   "metadata": {},
   "outputs": [
    {
     "data": {
      "text/plain": [
       "[('kushal', 2), ('ram', 3), ('kartik', 5)]"
      ]
     },
     "execution_count": 18,
     "metadata": {},
     "output_type": "execute_result"
    }
   ],
   "source": [
    "l"
   ]
  },
  {
   "cell_type": "code",
   "execution_count": null,
   "metadata": {},
   "outputs": [],
   "source": []
  },
  {
   "cell_type": "markdown",
   "metadata": {},
   "source": [
    "## 2. enumerate\n",
    "\n",
    "```python\n",
    "enumerate(iterable)\n",
    "```\n",
    "\n",
    "Returns a tuple containing a count (from start which defaults to 0) and the values obtained from iterating over the iterable."
   ]
  },
  {
   "cell_type": "code",
   "execution_count": 19,
   "metadata": {},
   "outputs": [
    {
     "name": "stdout",
     "output_type": "stream",
     "text": [
      "apple\n",
      "banana\n",
      "mango\n"
     ]
    }
   ],
   "source": [
    "fruits = ['apple','banana','mango']\n",
    "for fruit in fruits:\n",
    "    print(fruit)"
   ]
  },
  {
   "cell_type": "code",
   "execution_count": 27,
   "metadata": {},
   "outputs": [],
   "source": [
    "it = enumerate(fruits)"
   ]
  },
  {
   "cell_type": "code",
   "execution_count": 30,
   "metadata": {},
   "outputs": [
    {
     "data": {
      "text/plain": [
       "(2, 'mango')"
      ]
     },
     "execution_count": 30,
     "metadata": {},
     "output_type": "execute_result"
    }
   ],
   "source": [
    "next(it)"
   ]
  },
  {
   "cell_type": "code",
   "execution_count": 31,
   "metadata": {},
   "outputs": [
    {
     "name": "stdout",
     "output_type": "stream",
     "text": [
      "0 apple\n",
      "1 banana\n",
      "2 mango\n"
     ]
    }
   ],
   "source": [
    "fruits = ['apple','banana','mango']\n",
    "for idx, fruit in enumerate(fruits):\n",
    "    print(idx,fruit)"
   ]
  },
  {
   "cell_type": "code",
   "execution_count": 32,
   "metadata": {},
   "outputs": [
    {
     "name": "stdout",
     "output_type": "stream",
     "text": [
      "2 apple\n",
      "3 banana\n",
      "4 mango\n"
     ]
    }
   ],
   "source": [
    "fruits = ['apple','banana','mango']\n",
    "for idx, fruit in enumerate(fruits,start=2):\n",
    "    print(idx,fruit)"
   ]
  },
  {
   "cell_type": "code",
   "execution_count": null,
   "metadata": {},
   "outputs": [],
   "source": []
  },
  {
   "cell_type": "markdown",
   "metadata": {},
   "source": [
    "## 3. zip\n",
    "\n",
    "Make an iterator that aggregates elements from each of the iterables.\n",
    "\n",
    "![](http://s2.quickmeme.com/img/56/568cf8f60a23bea949f5bc0143607934e7fd8a7e5d0f5c44b86fc12c1ffb8185.jpg)"
   ]
  },
  {
   "cell_type": "code",
   "execution_count": 33,
   "metadata": {},
   "outputs": [],
   "source": [
    "names = ['Ram', 'Shyam', 'Ravi', 'Mohan']\n",
    "scores = [3,4,5,2]"
   ]
  },
  {
   "cell_type": "code",
   "execution_count": 35,
   "metadata": {},
   "outputs": [
    {
     "data": {
      "text/plain": [
       "[('Ram', 3), ('Shyam', 4), ('Ravi', 5), ('Mohan', 2)]"
      ]
     },
     "execution_count": 35,
     "metadata": {},
     "output_type": "execute_result"
    }
   ],
   "source": [
    "list(zip(names,scores))"
   ]
  },
  {
   "cell_type": "markdown",
   "metadata": {},
   "source": [
    "## 4. all and any\n",
    "\n",
    "![](https://i.imgflip.com/21cqld.jpg)\n",
    "\n",
    "- all\n",
    "\n",
    "Returns True if all elements of the iterable are true.\n",
    "\n",
    "- any\n",
    "\n",
    "Return True if any element of the iterable is true."
   ]
  },
  {
   "cell_type": "code",
   "execution_count": 36,
   "metadata": {},
   "outputs": [
    {
     "data": {
      "text/plain": [
       "False"
      ]
     },
     "execution_count": 36,
     "metadata": {},
     "output_type": "execute_result"
    }
   ],
   "source": [
    "any([False,False])"
   ]
  },
  {
   "cell_type": "markdown",
   "metadata": {},
   "source": [
    "## 5. globals and locals\n",
    "\n",
    "- **globals**\n",
    "\n",
    "    Return a dictionary representing the current global symbol table. \n",
    "    \n",
    "- **locals**\n",
    "\n",
    "    Return a dictionary representing the current local symbol table."
   ]
  },
  {
   "cell_type": "code",
   "execution_count": 37,
   "metadata": {},
   "outputs": [
    {
     "data": {
      "text/plain": [
       "{'__name__': '__main__',\n",
       " '__doc__': 'Automatically created module for IPython interactive environment',\n",
       " '__package__': None,\n",
       " '__loader__': None,\n",
       " '__spec__': None,\n",
       " '__builtin__': <module 'builtins' (built-in)>,\n",
       " '__builtins__': <module 'builtins' (built-in)>,\n",
       " '_ih': ['',\n",
       "  'l  = [1,2,3,4,5]',\n",
       "  'it = iter(l)',\n",
       "  'next(it)',\n",
       "  'next(it)',\n",
       "  'next(it)',\n",
       "  'next(it)',\n",
       "  'next(it)',\n",
       "  'next(it)',\n",
       "  \"l = [('ram',3),('kartik',1),('kushal',2)]\",\n",
       "  'l.sort()',\n",
       "  'l.sort()',\n",
       "  'l',\n",
       "  \"l = [('ram',3),('kartik',5),('kushal',2)]\",\n",
       "  'l.sort()',\n",
       "  'l',\n",
       "  'def sort_by_second(x):\\n    return x[1]',\n",
       "  'l.sort(key=sort_by_second)',\n",
       "  'l',\n",
       "  \"fruits = ['apple','banana','mango']\\nfor fruit in fruits:\\n    print(fruit)\",\n",
       "  'enumerate(fruits)',\n",
       "  'it = enumerate(fruits)',\n",
       "  'next(it)',\n",
       "  'next(it)',\n",
       "  'next(it)',\n",
       "  'next(it)',\n",
       "  'next(it)',\n",
       "  'it = enumerate(fruits)',\n",
       "  'next(it)',\n",
       "  'next(it)',\n",
       "  'next(it)',\n",
       "  \"fruits = ['apple','banana','mango']\\nfor idx, fruit in enumerate(fruits):\\n    print(idx,fruit)\",\n",
       "  \"fruits = ['apple','banana','mango']\\nfor idx, fruit in enumerate(fruits,start=2):\\n    print(idx,fruit)\",\n",
       "  \"names = ['Ram', 'Shyam', 'Ravi', 'Mohan']\\nscores = [3,4,5,2]\",\n",
       "  'zip(names,scores)',\n",
       "  'list(zip(names,scores))',\n",
       "  'any([False,False])',\n",
       "  'globals()'],\n",
       " '_oh': {3: 1,\n",
       "  4: 2,\n",
       "  5: 3,\n",
       "  6: 4,\n",
       "  7: 5,\n",
       "  12: [('kartik', 1), ('kushal', 2), ('ram', 3)],\n",
       "  15: [('kushal', 2), ('ram', 3), ('kartik', 5)],\n",
       "  18: [('kushal', 2), ('ram', 3), ('kartik', 5)],\n",
       "  20: <enumerate at 0x7f5f96913ab0>,\n",
       "  22: (0, 'apple'),\n",
       "  23: (1, 'banana'),\n",
       "  24: (2, 'mango'),\n",
       "  28: (0, 'apple'),\n",
       "  29: (1, 'banana'),\n",
       "  30: (2, 'mango'),\n",
       "  34: <zip at 0x7f5f96d6bc48>,\n",
       "  35: [('Ram', 3), ('Shyam', 4), ('Ravi', 5), ('Mohan', 2)],\n",
       "  36: False},\n",
       " '_dh': ['/home/kartikchauhan/Desktop/Nagarro/Day 1/Basics-of-Python'],\n",
       " 'In': ['',\n",
       "  'l  = [1,2,3,4,5]',\n",
       "  'it = iter(l)',\n",
       "  'next(it)',\n",
       "  'next(it)',\n",
       "  'next(it)',\n",
       "  'next(it)',\n",
       "  'next(it)',\n",
       "  'next(it)',\n",
       "  \"l = [('ram',3),('kartik',1),('kushal',2)]\",\n",
       "  'l.sort()',\n",
       "  'l.sort()',\n",
       "  'l',\n",
       "  \"l = [('ram',3),('kartik',5),('kushal',2)]\",\n",
       "  'l.sort()',\n",
       "  'l',\n",
       "  'def sort_by_second(x):\\n    return x[1]',\n",
       "  'l.sort(key=sort_by_second)',\n",
       "  'l',\n",
       "  \"fruits = ['apple','banana','mango']\\nfor fruit in fruits:\\n    print(fruit)\",\n",
       "  'enumerate(fruits)',\n",
       "  'it = enumerate(fruits)',\n",
       "  'next(it)',\n",
       "  'next(it)',\n",
       "  'next(it)',\n",
       "  'next(it)',\n",
       "  'next(it)',\n",
       "  'it = enumerate(fruits)',\n",
       "  'next(it)',\n",
       "  'next(it)',\n",
       "  'next(it)',\n",
       "  \"fruits = ['apple','banana','mango']\\nfor idx, fruit in enumerate(fruits):\\n    print(idx,fruit)\",\n",
       "  \"fruits = ['apple','banana','mango']\\nfor idx, fruit in enumerate(fruits,start=2):\\n    print(idx,fruit)\",\n",
       "  \"names = ['Ram', 'Shyam', 'Ravi', 'Mohan']\\nscores = [3,4,5,2]\",\n",
       "  'zip(names,scores)',\n",
       "  'list(zip(names,scores))',\n",
       "  'any([False,False])',\n",
       "  'globals()'],\n",
       " 'Out': {3: 1,\n",
       "  4: 2,\n",
       "  5: 3,\n",
       "  6: 4,\n",
       "  7: 5,\n",
       "  12: [('kartik', 1), ('kushal', 2), ('ram', 3)],\n",
       "  15: [('kushal', 2), ('ram', 3), ('kartik', 5)],\n",
       "  18: [('kushal', 2), ('ram', 3), ('kartik', 5)],\n",
       "  20: <enumerate at 0x7f5f96913ab0>,\n",
       "  22: (0, 'apple'),\n",
       "  23: (1, 'banana'),\n",
       "  24: (2, 'mango'),\n",
       "  28: (0, 'apple'),\n",
       "  29: (1, 'banana'),\n",
       "  30: (2, 'mango'),\n",
       "  34: <zip at 0x7f5f96d6bc48>,\n",
       "  35: [('Ram', 3), ('Shyam', 4), ('Ravi', 5), ('Mohan', 2)],\n",
       "  36: False},\n",
       " 'get_ipython': <bound method InteractiveShell.get_ipython of <ipykernel.zmqshell.ZMQInteractiveShell object at 0x7f5fa77dee10>>,\n",
       " 'exit': <IPython.core.autocall.ZMQExitAutocall at 0x7f5fa67b6fd0>,\n",
       " 'quit': <IPython.core.autocall.ZMQExitAutocall at 0x7f5fa67b6fd0>,\n",
       " '_': False,\n",
       " '__': [('Ram', 3), ('Shyam', 4), ('Ravi', 5), ('Mohan', 2)],\n",
       " '___': <zip at 0x7f5f96d6bc48>,\n",
       " '_i': 'any([False,False])',\n",
       " '_ii': 'list(zip(names,scores))',\n",
       " '_iii': 'zip(names,scores)',\n",
       " '_i1': 'l  = [1,2,3,4,5]',\n",
       " 'l': [('kushal', 2), ('ram', 3), ('kartik', 5)],\n",
       " '_i2': 'it = iter(l)',\n",
       " 'it': <enumerate at 0x7f5f96913870>,\n",
       " '_i3': 'next(it)',\n",
       " '_3': 1,\n",
       " '_i4': 'next(it)',\n",
       " '_4': 2,\n",
       " '_i5': 'next(it)',\n",
       " '_5': 3,\n",
       " '_i6': 'next(it)',\n",
       " '_6': 4,\n",
       " '_i7': 'next(it)',\n",
       " '_7': 5,\n",
       " '_i8': 'next(it)',\n",
       " '_i9': \"l = [('ram',3),('kartik',1),('kushal',2)]\",\n",
       " '_i10': 'l.sort()',\n",
       " '_i11': 'l.sort()',\n",
       " '_i12': 'l',\n",
       " '_12': [('kartik', 1), ('kushal', 2), ('ram', 3)],\n",
       " '_i13': \"l = [('ram',3),('kartik',5),('kushal',2)]\",\n",
       " '_i14': 'l.sort()',\n",
       " '_i15': 'l',\n",
       " '_15': [('kushal', 2), ('ram', 3), ('kartik', 5)],\n",
       " '_i16': 'def sort_by_second(x):\\n    return x[1]',\n",
       " 'sort_by_second': <function __main__.sort_by_second(x)>,\n",
       " '_i17': 'l.sort(key=sort_by_second)',\n",
       " '_i18': 'l',\n",
       " '_18': [('kushal', 2), ('ram', 3), ('kartik', 5)],\n",
       " '_i19': \"fruits = ['apple','banana','mango']\\nfor fruit in fruits:\\n    print(fruit)\",\n",
       " 'fruits': ['apple', 'banana', 'mango'],\n",
       " 'fruit': 'mango',\n",
       " '_i20': 'enumerate(fruits)',\n",
       " '_20': <enumerate at 0x7f5f96913ab0>,\n",
       " '_i21': 'it = enumerate(fruits)',\n",
       " '_i22': 'next(it)',\n",
       " '_22': (0, 'apple'),\n",
       " '_i23': 'next(it)',\n",
       " '_23': (1, 'banana'),\n",
       " '_i24': 'next(it)',\n",
       " '_24': (2, 'mango'),\n",
       " '_i25': 'next(it)',\n",
       " '_i26': 'next(it)',\n",
       " '_i27': 'it = enumerate(fruits)',\n",
       " '_i28': 'next(it)',\n",
       " '_28': (0, 'apple'),\n",
       " '_i29': 'next(it)',\n",
       " '_29': (1, 'banana'),\n",
       " '_i30': 'next(it)',\n",
       " '_30': (2, 'mango'),\n",
       " '_i31': \"fruits = ['apple','banana','mango']\\nfor idx, fruit in enumerate(fruits):\\n    print(idx,fruit)\",\n",
       " 'idx': 4,\n",
       " '_i32': \"fruits = ['apple','banana','mango']\\nfor idx, fruit in enumerate(fruits,start=2):\\n    print(idx,fruit)\",\n",
       " '_i33': \"names = ['Ram', 'Shyam', 'Ravi', 'Mohan']\\nscores = [3,4,5,2]\",\n",
       " 'names': ['Ram', 'Shyam', 'Ravi', 'Mohan'],\n",
       " 'scores': [3, 4, 5, 2],\n",
       " '_i34': 'zip(names,scores)',\n",
       " '_34': <zip at 0x7f5f96d6bc48>,\n",
       " '_i35': 'list(zip(names,scores))',\n",
       " '_35': [('Ram', 3), ('Shyam', 4), ('Ravi', 5), ('Mohan', 2)],\n",
       " '_i36': 'any([False,False])',\n",
       " '_36': False,\n",
       " '_i37': 'globals()'}"
      ]
     },
     "execution_count": 37,
     "metadata": {},
     "output_type": "execute_result"
    }
   ],
   "source": [
    "globals()"
   ]
  },
  {
   "cell_type": "code",
   "execution_count": 38,
   "metadata": {},
   "outputs": [],
   "source": [
    "def myfunc(a,b):\n",
    "    c=a+b\n",
    "    print(locals())\n",
    "    return c"
   ]
  },
  {
   "cell_type": "code",
   "execution_count": 39,
   "metadata": {},
   "outputs": [
    {
     "name": "stdout",
     "output_type": "stream",
     "text": [
      "{'a': 1, 'b': 2, 'c': 3}\n"
     ]
    },
    {
     "data": {
      "text/plain": [
       "3"
      ]
     },
     "execution_count": 39,
     "metadata": {},
     "output_type": "execute_result"
    }
   ],
   "source": [
    "myfunc(1,2)"
   ]
  },
  {
   "cell_type": "markdown",
   "metadata": {},
   "source": [
    "## 6. eval\n",
    "\n",
    "```python\n",
    "eval(expression, globals=None, locals=None)\n",
    "```\n",
    "\n",
    "The expression argument is parsed and evaluated as a Python expression using the globals and locals dictionaries as global and local namespace."
   ]
  },
  {
   "cell_type": "code",
   "execution_count": 40,
   "metadata": {},
   "outputs": [
    {
     "data": {
      "text/plain": [
       "6"
      ]
     },
     "execution_count": 40,
     "metadata": {},
     "output_type": "execute_result"
    }
   ],
   "source": [
    "eval(\"1 + 2 + 3\")"
   ]
  },
  {
   "cell_type": "code",
   "execution_count": 42,
   "metadata": {},
   "outputs": [
    {
     "name": "stdout",
     "output_type": "stream",
     "text": [
      "helllo\n"
     ]
    }
   ],
   "source": [
    "eval(\"print('helllo')\")"
   ]
  },
  {
   "cell_type": "markdown",
   "metadata": {},
   "source": [
    "## Other built-in functions can be found [here](https://docs.python.org/3/library/functions.html)"
   ]
  }
 ],
 "metadata": {
  "kernelspec": {
   "display_name": "Python 3",
   "language": "python",
   "name": "python3"
  },
  "language_info": {
   "codemirror_mode": {
    "name": "ipython",
    "version": 3
   },
   "file_extension": ".py",
   "mimetype": "text/x-python",
   "name": "python",
   "nbconvert_exporter": "python",
   "pygments_lexer": "ipython3",
   "version": "3.7.1"
  }
 },
 "nbformat": 4,
 "nbformat_minor": 2
}
